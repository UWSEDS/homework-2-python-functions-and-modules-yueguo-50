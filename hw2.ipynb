{
 "cells": [
  {
   "cell_type": "code",
   "execution_count": 1,
   "metadata": {},
   "outputs": [],
   "source": [
    "import pandas as pd"
   ]
  },
  {
   "cell_type": "code",
   "execution_count": 2,
   "metadata": {},
   "outputs": [
    {
     "data": {
      "text/plain": [
       "'/Users/Clara/Google Drive (yueg50@gmail.com)/UW courses/2019 Fall quarter/CSE583_SoftwareDevelop/homework/hw2'"
      ]
     },
     "execution_count": 2,
     "metadata": {},
     "output_type": "execute_result"
    }
   ],
   "source": [
    "#change the current directory into data folder\n",
    "import os\n",
    "os.chdir(r\"/Users/Clara/Google Drive (yueg50@gmail.com)/UW courses/2019 Fall quarter/CSE583_SoftwareDevelop/homework/hw2/\")\n",
    "os.getcwd()"
   ]
  },
  {
   "cell_type": "code",
   "execution_count": null,
   "metadata": {},
   "outputs": [],
   "source": [
    "def test_create_dataframe(url, columnName):\n",
    "    \"\"\"\n",
    "    This function \n",
    "        1) download the csv data from url;\n",
    "        2) test whether the input dataframe follows a set of conditions.\n",
    "    \n",
    "    test_create_dataframe is the function name\n",
    "    \n",
    "    parameters:\n",
    "        url: website to download the csv dataset\n",
    "        columnName: a list of column names\n",
    "        \n",
    "    Resturns:\n",
    "        Ture if \n",
    "            1) The DataFrame contains only the columns that you specified as the second argument; and\n",
    "            2) The values in each column have the same python type; and \n",
    "            3) There are at least 10 rows in the DataFrame.\n",
    "    \"\"\"\n",
    "## Write a python reads creates a dataframe from a URL that points to a CSV file.\n",
    "    !curl -o data.csv url\n",
    "    dataset = pd.read_csv('data.csv')\n",
    "## Convert name of columns in dataframe into list\n",
    "    listOfNames = dataset.columns.tolist() \n",
    "\n",
    "## Check the length of columns in dataframe and length of given column list\n",
    "    if len(listOfNames) == len(columnName):\n",
    "## If the lengths are same, then check each name\n",
    "        for i in range(len(listOfNames)):\n",
    "            if listOfNames[i] in columnName:\n",
    "## If the names are the same, then check data type in each column. \n",
    "## If single datatype in a column, then the dtype should not be onject. \n",
    "                if pd.api.types.is_object_dtype(data[listOfNames[i]]) == True:\n",
    "                    if dataset.shape[0] >= 10:\n",
    "                        print ('True')\n",
    "                   \n",
    "\n",
    "        \n"
   ]
  }
 ],
 "metadata": {
  "kernelspec": {
   "display_name": "Python 3",
   "language": "python",
   "name": "python3"
  },
  "language_info": {
   "codemirror_mode": {
    "name": "ipython",
    "version": 3
   },
   "file_extension": ".py",
   "mimetype": "text/x-python",
   "name": "python",
   "nbconvert_exporter": "python",
   "pygments_lexer": "ipython3",
   "version": "3.7.3"
  }
 },
 "nbformat": 4,
 "nbformat_minor": 2
}
